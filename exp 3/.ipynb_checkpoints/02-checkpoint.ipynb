{
 "cells": [
  {
   "cell_type": "code",
   "execution_count": 7,
   "id": "d9b15dd7-470c-4b56-95f4-b683615701ed",
   "metadata": {},
   "outputs": [
    {
     "name": "stdout",
     "output_type": "stream",
     "text": [
      "Nishad Joglekar 221P045\n"
     ]
    }
   ],
   "source": [
    "print('Nishad Joglekar 221P045')"
   ]
  },
  {
   "cell_type": "code",
   "execution_count": 2,
   "id": "86c38f5e-1c1c-42ab-bf85-e70b9ac381a9",
   "metadata": {},
   "outputs": [],
   "source": [
    "import pandas as pd\n",
    "import numpy as np\n",
    "from sklearn.datasets import load_diabetes\n",
    "from sklearn.model_selection import train_test_split\n",
    "from sklearn.linear_model import LinearRegression\n",
    "from sklearn.metrics import r2_score\n",
    "import tkinter as tk"
   ]
  },
  {
   "cell_type": "code",
   "execution_count": 3,
   "id": "b6c84199-afd6-4b10-b191-dbccb3526823",
   "metadata": {},
   "outputs": [],
   "source": [
    "# Load diabetes dataset\n",
    "diabetes = load_diabetes()\n",
    "X, y = diabetes.data, diabetes.target\n",
    "\n",
    "# Split dataset\n",
    "X_train, X_test, y_train, y_test = train_test_split(X, y, test_size=0.2, random_state=42)\n",
    "\n",
    "# Train using built-in LinearRegression\n",
    "reg = LinearRegression()\n",
    "reg.fit(X_train, y_train)\n",
    "y_pred_builtin = reg.predict(X_test)\n",
    "score_builtin = r2_score(y_test, y_pred_builtin)"
   ]
  },
  {
   "cell_type": "code",
   "execution_count": 4,
   "id": "1bd0ac11-8c6b-4e76-9c69-026cea5b8844",
   "metadata": {},
   "outputs": [],
   "source": [
    "# Custom Linear Regression class\n",
    "class MyLinearRegression:\n",
    "    def __init__(self):\n",
    "        self.coef = None\n",
    "        self.intercept = None\n",
    "\n",
    "    def fit(self, X_train, y_train):\n",
    "        # Add bias term (column of ones)\n",
    "        X_train_bias = np.c_[np.ones(X_train.shape[0]), X_train]\n",
    "        # Closed-form solution: β = (X^T X)^-1 X^T y\n",
    "        beta = np.linalg.inv(X_train_bias.T @ X_train_bias) @ X_train_bias.T @ y_train\n",
    "        self.intercept = beta[0]\n",
    "        self.coef = beta[1:]\n",
    "\n",
    "    def predict(self, X_test):\n",
    "        X_test_bias = np.c_[np.ones(X_test.shape[0]), X_test]\n",
    "        return X_test_bias @ np.concatenate(([self.intercept], self.coef))"
   ]
  },
  {
   "cell_type": "code",
   "execution_count": 5,
   "id": "ee0fd6f5-c944-41d9-9d8e-870c53293ab5",
   "metadata": {},
   "outputs": [
    {
     "data": {
      "text/plain": [
       "''"
      ]
     },
     "execution_count": 5,
     "metadata": {},
     "output_type": "execute_result"
    }
   ],
   "source": [
    "# Train using custom LinearRegression\n",
    "custom_reg = MyLinearRegression()\n",
    "custom_reg.fit(X_train, y_train)\n",
    "y_pred_custom = custom_reg.predict(X_test)\n",
    "score_custom = r2_score(y_test, y_pred_custom)\n",
    "\n",
    "# Tkinter GUI\n",
    "root = tk.Tk()\n",
    "root.title(\"Diabetes Prediction By Aditya Mishra\")\n",
    "root.geometry('600x300')"
   ]
  },
  {
   "cell_type": "code",
   "execution_count": 6,
   "id": "7bd2099d-b0a7-4790-b826-e0e7d44389af",
   "metadata": {},
   "outputs": [],
   "source": [
    "def predict_sum():\n",
    "    try:\n",
    "        index = int(entry_index.get())\n",
    "        if index < 0 or index >= len(X):\n",
    "            label_prediction.config(text=\"Index out of range.\")\n",
    "            return\n",
    "        input_data = X[index].reshape(1, -1)\n",
    "        prediction = custom_reg.predict(input_data)\n",
    "        label_prediction.config(\n",
    "            text=(\n",
    "                f\"Custom Model Prediction: {prediction[0]:.2f}\\n\"\n",
    "                f\"Built-in R2 Score: {score_builtin:.2f}\\n\"\n",
    "                f\"Custom R2 Score: {score_custom:.2f}\\n\"\n",
    "                f\"Custom Coefficients: {custom_reg.coef}\\n\"\n",
    "                f\"Custom Intercept: {custom_reg.intercept:.2f}\"\n",
    "            )\n",
    "        )\n",
    "    except ValueError:\n",
    "        label_prediction.config(text=\"Please enter a valid integer index.\")\n",
    "\n",
    "label_entry = tk.Label(root, text=\"Enter index (0-441):\")\n",
    "label_entry.pack(pady=10)\n",
    "\n",
    "entry_index = tk.Entry(root, width=10)\n",
    "entry_index.pack()\n",
    "\n",
    "button_predict = tk.Button(root, text=\"Predict\", command=predict_sum)\n",
    "button_predict.pack(pady=10)\n",
    "\n",
    "label_prediction = tk.Label(root, text=\"\")\n",
    "label_prediction.pack(pady=10)\n",
    "\n",
    "root.mainloop()\n"
   ]
  },
  {
   "cell_type": "code",
   "execution_count": null,
   "id": "a99a50ac-6533-41a5-bfe6-80cfa7951b1a",
   "metadata": {},
   "outputs": [],
   "source": []
  }
 ],
 "metadata": {
  "kernelspec": {
   "display_name": "Python 3 (ipykernel)",
   "language": "python",
   "name": "python3"
  },
  "language_info": {
   "codemirror_mode": {
    "name": "ipython",
    "version": 3
   },
   "file_extension": ".py",
   "mimetype": "text/x-python",
   "name": "python",
   "nbconvert_exporter": "python",
   "pygments_lexer": "ipython3",
   "version": "3.11.7"
  }
 },
 "nbformat": 4,
 "nbformat_minor": 5
}
